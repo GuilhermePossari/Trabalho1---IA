{
 "cells": [
  {
   "metadata": {},
   "cell_type": "markdown",
   "source": [
    "# Descrição do Projeto\n",
    "Este projeto tem como objetivo principal a implementação e análise de métodos de busca cega em um grafo que representa um mapa.\n",
    "\n",
    "## Tarefas\n",
    "- Geração do Grafo: Gerar um grafo que simbolize um mapa, utilizando como base a atividade realizada na disciplina no formato JSON. O grafo deve possuir arestas ponderadas; caso um método de busca não utilize essa informação, ela deve ser ignorada.\n",
    "\n",
    "- Implementação dos Métodos de Busca: Implementar os três métodos de busca cega abordados em aula.\n",
    "\n",
    "- Execução dos Casos de Teste: Executar cada método de busca nos cinco casos de teste definidos.\n",
    "\n",
    "- Análise de Desempenho: Comparar os resultados obtidos por cada método, realizando uma análise de desempenho. Para esta análise, deve-se considerar o tamanho do caminho encontrado para alcançar o destino.\n",
    "\n",
    "- Conclusão: Apresentar uma conclusão detalhada, analisando e explicando os motivos dos desempenhos obtidos por cada método de busca.\n",
    "\n",
    "## Casos de Teste\n",
    "Os seguintes pares de cidades serão utilizados como casos de teste:\n",
    "\n",
    "- Londrina → Maringá\n",
    "\n",
    "- Primeiro de Maio → Apucarana\n",
    "\n",
    "- Londrina → Paranavaí\n",
    "\n",
    "- Londrina → Foz do Iguaçu\n",
    "\n",
    "- Primeiro de Maio → Curitiba\n",
    "\n",
    "## Entrega\n",
    "A entrega do projeto consiste em um relatório que deve conter:\n",
    "\n",
    "- A descrição das implementações realizadas.\n",
    "\n",
    "- Os experimentos executados.\n",
    "\n",
    "- Os resultados obtidos.\n",
    "\n",
    "- A conclusão alcançada com base nos resultados.\n",
    "\n",
    "## Observações:\n",
    "\n",
    "O nome de todos os integrantes do grupo deve constar no relatório.\n",
    "\n",
    "O relatório pode ser entregue por apenas um integrante."
   ],
   "id": "ca38fc4fc26d573f"
  },
  {
   "metadata": {},
   "cell_type": "markdown",
   "source": "### Gera e plota o grafo",
   "id": "98f72d977baedcf8"
  },
  {
   "cell_type": "code",
   "execution_count": null,
   "id": "initial_id",
   "metadata": {
    "collapsed": true
   },
   "outputs": [],
   "source": [
    "import networkx as nx\n",
    "import matplotlib.pyplot as plt\n",
    "import json\n",
    "\n",
    "input_path_file = \"grafo.json\"\n",
    "\n",
    "with open(input_path_file, \"r\") as input_file:\n",
    "    graph_from_json = json.load(input_file)\n",
    "\n",
    "    graph = nx.Graph(graph_from_json)\n",
    "    print(\"Nós no grafo: \", graph.number_of_nodes())\n",
    "\n",
    "    plt.figure(figsize=(10, 10))\n",
    "    pos = nx.spring_layout(graph)\n",
    "    nx.draw_networkx_nodes(graph, pos, node_size=400)\n",
    "    nx.draw_networkx_edges(graph, pos, width=2, alpha=0.6)\n",
    "    nx.draw_networkx_labels(graph, pos, font_size=5, font_family=\"sans-serif\", font_weight=\"bold\")\n",
    "\n",
    "    plt.title(\"Grafo ponderado das cidades do paraná\")\n",
    "    plt.show()"
   ]
  },
  {
   "metadata": {},
   "cell_type": "code",
   "outputs": [],
   "execution_count": null,
   "source": "",
   "id": "10f756cfc4172e80"
  }
 ],
 "metadata": {
  "kernelspec": {
   "display_name": "Python 3",
   "language": "python",
   "name": "python3"
  },
  "language_info": {
   "codemirror_mode": {
    "name": "ipython",
    "version": 2
   },
   "file_extension": ".py",
   "mimetype": "text/x-python",
   "name": "python",
   "nbconvert_exporter": "python",
   "pygments_lexer": "ipython2",
   "version": "2.7.6"
  }
 },
 "nbformat": 4,
 "nbformat_minor": 5
}
